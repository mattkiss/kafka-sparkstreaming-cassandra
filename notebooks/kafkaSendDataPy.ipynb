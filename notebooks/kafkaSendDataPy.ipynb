{
 "cells": [
  {
   "cell_type": "markdown",
   "metadata": {},
   "source": [
    "# kafkaSendDataPy\n",
    "This notebook sends data to Kafka on the topic 'test'. A message that gives the current time is sent every second"
   ]
  },
  {
   "cell_type": "markdown",
   "metadata": {},
   "source": [
    "## Add dependencies"
   ]
  },
  {
   "cell_type": "code",
   "execution_count": null,
   "metadata": {
    "collapsed": true
   },
   "outputs": [],
   "source": [
    "import os\n",
    "os.environ['PYSPARK_SUBMIT_ARGS'] = '--conf spark.ui.port=4041 --packages org.apache.kafka:kafka_2.11:0.10.0.0,org.apache.kafka:kafka-clients:0.10.0.0  pyspark-shell'"
   ]
  },
  {
   "cell_type": "markdown",
   "metadata": {},
   "source": [
    "## Load modules, start SparkContext and Kafka producer\n",
    "Note that SparkContext must be started to effectively load the package dependencies. One core is used."
   ]
  },
  {
   "cell_type": "code",
   "execution_count": null,
   "metadata": {
    "collapsed": true
   },
   "outputs": [],
   "source": [
    "from pyspark import SparkContext\n",
    "sc = SparkContext(\"local[1]\", \"KafkaSendStream\") \n",
    "from kafka import KafkaProducer\n",
    "import time\n",
    "producer = KafkaProducer(bootstrap_servers='localhost:9092')\n",
    "topic=\"satori-volatility\""
   ]
  },
  {
   "cell_type": "markdown",
   "metadata": {},
   "source": [
    "## Load modules and start Satori"
   ]
  },
  {
   "cell_type": "code",
   "execution_count": null,
   "metadata": {
    "collapsed": true
   },
   "outputs": [],
   "source": [
    "import json\n",
    "from satori.rtm.client import make_client, SubscriptionMode\n",
    "\n",
    "endpoint = \"wss://open-data.api.satori.com\"\n",
    "appkey = \"dC6c33Fbb5ECdAC1Ef2aB77dcBfBB0B0\"\n",
    "channel = \"cryptocurrency-market-data\"\n",
    "\n",
    "with make_client(endpoint=endpoint, appkey=appkey) as client:\n",
    "    print('Connected to Satori RTM!')\n",
    "    messagebox=[]\n",
    "\n",
    "    class SubscriptionObserver(object):\n",
    "        def on_subscription_data(self, data):\n",
    "            for message in data['messages']:\n",
    "                messagebox.append(message)\n",
    "\n",
    "    subscription_observer = SubscriptionObserver()\n",
    "    client.subscribe(\n",
    "        channel,\n",
    "        SubscriptionMode.SIMPLE,\n",
    "        subscription_observer,\n",
    "        {'filter':'select * from `cryptocurrency-market-data` where exchange = \"Bitstamp\" and basecurrency = \"USD\" and cryptocurrency=\"BTC\"'})\n",
    "        #  exchange != \"ShapheShift\" OU type != \"ratequote\" si on laisse ShapeShift\n",
    "\n",
    "    while True:\n",
    "        for message in messagebox:\n",
    "            msg = json.dumps(message, ensure_ascii=False)\n",
    "            producer.send(topic, msg)\n",
    "            time.sleep(1) # do not send the messages too fast"
   ]
  }
 ],
 "metadata": {
  "kernelspec": {
   "display_name": "Python 3",
   "language": "python",
   "name": "python3"
  },
  "language_info": {
   "codemirror_mode": {
    "name": "ipython",
    "version": 3
   },
   "file_extension": ".py",
   "mimetype": "text/x-python",
   "name": "python",
   "nbconvert_exporter": "python",
   "pygments_lexer": "ipython3",
   "version": "3.6.2"
  }
 },
 "nbformat": 4,
 "nbformat_minor": 1
}
