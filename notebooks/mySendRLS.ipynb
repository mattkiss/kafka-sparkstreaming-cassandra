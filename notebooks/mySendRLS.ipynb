{
 "cells": [
  {
   "cell_type": "code",
   "execution_count": 1,
   "metadata": {
    "collapsed": true
   },
   "outputs": [],
   "source": [
    "import os\n",
    "import numpy as np\n",
    "os.environ['PYSPARK_SUBMIT_ARGS'] = '--conf spark.ui.port=4041 --packages org.apache.kafka:kafka_2.11:0.9.0.0,org.apache.kafka:kafka-clients:0.9.0.0  pyspark-shell'"
   ]
  },
  {
   "cell_type": "code",
   "execution_count": 2,
   "metadata": {
    "collapsed": true
   },
   "outputs": [],
   "source": [
    "from pyspark import SparkContext\n",
    "sc = SparkContext(\"local[1]\", \"KafkaSendStream\") \n",
    "from kafka import KafkaProducer\n",
    "import time"
   ]
  },
  {
   "cell_type": "code",
   "execution_count": 24,
   "metadata": {},
   "outputs": [
    {
     "name": "stdout",
     "output_type": "stream",
     "text": [
      "Connected to Satori RTM!\n",
      "(7775.0, 7779.91, -0.00063131193469776153)\n",
      "(7775.0, 7775.0, 0.0)\n",
      "(7775.0, 7775.0, 0.0)\n",
      "(7770.0, 7775.0, -0.00064329368574170764)\n",
      "(7756.43, 7770.0, -0.0017479875870004861)\n",
      "(7746.66, 7756.43, -0.0012603940625230529)\n",
      "(7749.99, 7746.66, 0.00042977031180991838)\n",
      "(7749.99, 7749.99, 0.0)\n",
      "(7760.0, 7749.99, 0.0012907811532847995)\n",
      "(7750.0, 7760.0, -0.0012894908298717507)\n",
      "[  0.00000000e+00,  1.66445129e-06,  1.99277379e-07,  2.06913383e-07,\n",
      "   2.32202690e-06,  9.23512605e-08]\n"
     ]
    }
   ],
   "source": [
    "import json\n",
    "from satori.rtm.client import make_client, SubscriptionMode\n",
    "from math import log\n",
    "\n",
    "# Make a proxy class\n",
    "\n",
    "endpoint = \"wss://open-data.api.satori.com\"\n",
    "appkey = \"dC6c33Fbb5ECdAC1Ef2aB77dcBfBB0B0\"\n",
    "channel = \"cryptocurrency-market-data\"\n",
    "\n",
    "with make_client(endpoint=endpoint, appkey=appkey) as client:\n",
    "    print('Connected to Satori RTM!')\n",
    "    messagebox=[]\n",
    "\n",
    "    class SubscriptionObserver(object):\n",
    "        def on_subscription_data(self, data):\n",
    "            for message in data['messages']:\n",
    "                messagebox.append(message)\n",
    "\n",
    "    subscription_observer = SubscriptionObserver()\n",
    "    client.subscribe(\n",
    "        channel,\n",
    "        SubscriptionMode.SIMPLE,\n",
    "        subscription_observer,\n",
    "        {'filter':'select * from `cryptocurrency-market-data` where exchange = \"Bitstamp\" and basecurrency = \"USD\" and cryptocurrency=\"BTC\"'})\n",
    "        #  exchange != \"ShapheShift\" OU type != \"ratequote\" si on laisse ShapeShift\n",
    "\n",
    "    producer = KafkaProducer(bootstrap_servers='localhost:9092')\n",
    "    i=0\n",
    "    n=4   # number of inputs\n",
    "    numOfRendements=2\n",
    "    while not messagebox: # waiting for a first price to arrive\n",
    "        time.sleep(1)\n",
    "    lastPrice=float(json.loads(json.dumps(messagebox.pop(), ensure_ascii=False))['price']) # get that first price\n",
    "    proxies=np.empty(0) # x of the RLS algorithm\n",
    "    while proxies.size<n+1:\n",
    "        rendements=np.empty(0) \n",
    "        while rendements.size<numOfRendements: # Choix du nombre de rendements pour le calcul du proxy            \n",
    "            if messagebox:\n",
    "                message=messagebox.pop()\n",
    "                message=json.dumps(message, ensure_ascii=False)\n",
    "                message=json.loads(message)\n",
    "                rendement=np.log(float(message['price'])/lastPrice) # r = np.log(float(message['price'])/lastPrice)\n",
    "                print(float(message['price']), lastPrice, rendement)\n",
    "                lastPrice=float(message['price'])\n",
    "                rendements=np.append(rendements, rendement)\n",
    "                #print(float(message['price']), lastPrice, log(float(message['price'])/lastPrice))print(rendements, rendements.size)\n",
    "            time.sleep(1)\n",
    "        proxies=np.append(proxies, np.sum(np.square(rendements))/numOfRendements)\n",
    "    \n",
    "    y=proxies[-1]\n",
    "    proxies=np.delete(proxies, proxies.size-1)\n",
    "    message=np.array2string(np.append([i,y], proxies),separator=\",\") \n",
    "    producer.send('test2', message)\n",
    "    i=i+1\n",
    "    print(message)\n",
    "    \"\"\"\n",
    "        while True:\n",
    "            proxies=np.roll(proxies,-1)\n",
    "            proxies[0]=1\n",
    "            while not messagebox:\n",
    "                time.sleep(1)\n",
    "            message=messagebox.pop()\n",
    "            message=json.dumps(message, ensure_ascii=False)\n",
    "            message=json.loads(message)\n",
    "            proxy+=(np.log(float(message['price'])/lastPrice)**2)/j # r = np.log(float(message['price'])/lastPrice)\n",
    "            lastPrice=float(message['price'])\n",
    "            proxies[n-1]=proxy\n",
    "            j+=1\n",
    "            y=np.sum(proxies)+0.1*np.random.rand(1)[0]\n",
    "            message=np.array2string(np.append([i,y], proxies),separator=\",\") \n",
    "            producer.send('test2', message)\n",
    "            i=i+1\n",
    "            print(message)\n",
    "    \"\"\""
   ]
  },
  {
   "cell_type": "code",
   "execution_count": null,
   "metadata": {
    "collapsed": true
   },
   "outputs": [],
   "source": []
  },
  {
   "cell_type": "code",
   "execution_count": null,
   "metadata": {
    "collapsed": true
   },
   "outputs": [],
   "source": []
  }
 ],
 "metadata": {
  "kernelspec": {
   "display_name": "Python 2",
   "language": "python",
   "name": "python2"
  },
  "language_info": {
   "codemirror_mode": {
    "name": "ipython",
    "version": 2
   },
   "file_extension": ".py",
   "mimetype": "text/x-python",
   "name": "python",
   "nbconvert_exporter": "python",
   "pygments_lexer": "ipython2",
   "version": "2.7.10"
  }
 },
 "nbformat": 4,
 "nbformat_minor": 1
}
